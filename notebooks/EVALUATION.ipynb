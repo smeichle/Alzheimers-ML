{
 "cells": [
  {
   "cell_type": "markdown",
   "metadata": {},
   "source": [
    "# Model Evaluation"
   ]
  },
  {
   "cell_type": "code",
   "execution_count": 1,
   "metadata": {
    "collapsed": true,
    "hide": true
   },
   "outputs": [],
   "source": [
    "# import required modules\n",
    "import warnings\n",
    "warnings.filterwarnings('ignore')\n",
    "\n",
    "import pickle\n",
    "\n",
    "import numpy as np\n",
    "import pandas as pd\n",
    "import matplotlib\n",
    "import matplotlib.pyplot as plt\n",
    "import sklearn.metrics as metrics\n",
    "from scipy import stats\n",
    "from sklearn.model_selection import cross_val_score\n",
    "from sklearn.model_selection import GridSearchCV\n",
    "from sklearn.model_selection import train_test_split\n",
    "\n",
    "import statsmodels.api as sm\n",
    "from statsmodels.api import OLS\n",
    "\n",
    "from sklearn.model_selection import KFold\n",
    "from sklearn.decomposition import PCA\n",
    "from sklearn.linear_model import LinearRegression\n",
    "from sklearn.linear_model import Ridge\n",
    "from sklearn.linear_model import RidgeCV\n",
    "from sklearn.linear_model import ElasticNetCV\n",
    "from sklearn.linear_model import ElasticNet\n",
    "from sklearn.utils import resample\n",
    "from sklearn.model_selection import cross_val_score\n",
    "from sklearn.metrics import accuracy_score\n",
    "from sklearn.metrics import r2_score\n",
    "from sklearn.ensemble import GradientBoostingRegressor\n",
    "from sklearn.ensemble import RandomForestRegressor\n",
    "\n",
    "from scipy.stats import pearsonr\n",
    "from scipy.stats import ttest_1samp\n",
    "from sklearn.linear_model import LogisticRegression\n",
    "from sklearn.linear_model import LogisticRegressionCV\n",
    "\n",
    "import seaborn.apionly as sns\n",
    "sns.set_context(\"poster\")\n",
    "from IPython.display import display\n",
    "matplotlib.style.use('ggplot')\n",
    "%matplotlib inline\n"
   ]
  },
  {
   "cell_type": "code",
   "execution_count": 2,
   "metadata": {
    "collapsed": true,
    "hide": true
   },
   "outputs": [],
   "source": [
    "# we define a function to calculate the Concordance Correlation Coefficient (a measure to evaluate our models)\n",
    "def ccc_function(y,y_hat):\n",
    "    pcc, _ = pearsonr(y_hat,y)\n",
    "    ccc = 2 * pcc * y.std() * y_hat.std()/(y.var() + y_hat.var() + (y.mean() - y_hat.mean())**2)\n",
    "    return ccc\n",
    "# function to evaluate our quantitative models and store the result in a summary dictionary\n",
    "def evaluate_and_store(y_train,y_hat_train,y_test,y_hat_test,name,summary):\n",
    "    # input:\n",
    "    # y_train,y_hat_train,y_test,y_hat_test\n",
    "    # summary: dictionary with fields model name, R2train, R2test, PCC and CCC\n",
    "    pcc, _ = pearsonr(y_test,y_hat_test)\n",
    "    ccc = ccc_function(y_test,y_hat_test)\n",
    "    r2train = r2_score(y_train,y_hat_train)\n",
    "    r2test = r2_score(y_test,y_hat_test)\n",
    "    summary['model name'].append(name)\n",
    "    summary['R2train'].append(r2train)\n",
    "    summary['R2test'].append(r2test)\n",
    "    summary['PCC'].append(pcc)\n",
    "    summary['CCC'].append(ccc)\n",
    "    return r2train,r2test,pcc,ccc,summary\n",
    "\n",
    "# set up a summary dictionary\n",
    "summary = {'model name':[],'R2train':[],'R2test':[],\"PCC\":[],'CCC':[]}\n"
   ]
  },
  {
   "cell_type": "markdown",
   "metadata": {},
   "source": [
    "## Model Performance Comparison\n",
    "  \n",
    "  \n",
    "To evaluate our models, we used 3 different metrics: R2 score, Pearson's correlation coefficient (PCC) and Concordance correlation coefficient (CCC), all on the test set. The latter is the metric used in the AD DREAM challenge to score the leaderboard."
   ]
  },
  {
   "cell_type": "code",
   "execution_count": 3,
   "metadata": {
    "hide": true
   },
   "outputs": [
    {
     "data": {
      "text/html": [
       "<div>\n",
       "<style>\n",
       "    .dataframe thead tr:only-child th {\n",
       "        text-align: right;\n",
       "    }\n",
       "\n",
       "    .dataframe thead th {\n",
       "        text-align: left;\n",
       "    }\n",
       "\n",
       "    .dataframe tbody tr th {\n",
       "        vertical-align: top;\n",
       "    }\n",
       "</style>\n",
       "<table border=\"1\" class=\"dataframe\">\n",
       "  <thead>\n",
       "    <tr style=\"text-align: right;\">\n",
       "      <th></th>\n",
       "      <th>model name</th>\n",
       "      <th>R2train</th>\n",
       "      <th>R2test</th>\n",
       "      <th>PCC</th>\n",
       "      <th>CCC</th>\n",
       "    </tr>\n",
       "  </thead>\n",
       "  <tbody>\n",
       "    <tr>\n",
       "      <th>0</th>\n",
       "      <td>linear regression with all predictors</td>\n",
       "      <td>1.000000</td>\n",
       "      <td>-0.575704</td>\n",
       "      <td>0.292637</td>\n",
       "      <td>0.291248</td>\n",
       "    </tr>\n",
       "    <tr>\n",
       "      <th>1</th>\n",
       "      <td>linear regression on 197 PCs</td>\n",
       "      <td>0.607145</td>\n",
       "      <td>0.146130</td>\n",
       "      <td>0.462699</td>\n",
       "      <td>0.434770</td>\n",
       "    </tr>\n",
       "    <tr>\n",
       "      <th>2</th>\n",
       "      <td>ridge regression with 197 PCs</td>\n",
       "      <td>0.471062</td>\n",
       "      <td>0.265014</td>\n",
       "      <td>0.518424</td>\n",
       "      <td>0.419588</td>\n",
       "    </tr>\n",
       "    <tr>\n",
       "      <th>3</th>\n",
       "      <td>Elastic Net regression with 197 PCs</td>\n",
       "      <td>0.430632</td>\n",
       "      <td>0.267113</td>\n",
       "      <td>0.520643</td>\n",
       "      <td>0.415252</td>\n",
       "    </tr>\n",
       "    <tr>\n",
       "      <th>4</th>\n",
       "      <td>linear regression with 20 PCs</td>\n",
       "      <td>0.321961</td>\n",
       "      <td>0.226916</td>\n",
       "      <td>0.486073</td>\n",
       "      <td>0.415090</td>\n",
       "    </tr>\n",
       "    <tr>\n",
       "      <th>5</th>\n",
       "      <td>linear regression with 5 predictors</td>\n",
       "      <td>0.347888</td>\n",
       "      <td>0.263385</td>\n",
       "      <td>0.522998</td>\n",
       "      <td>0.457284</td>\n",
       "    </tr>\n",
       "    <tr>\n",
       "      <th>6</th>\n",
       "      <td>linear regression model with Ridge regularizat...</td>\n",
       "      <td>0.346355</td>\n",
       "      <td>0.267639</td>\n",
       "      <td>0.522654</td>\n",
       "      <td>0.441700</td>\n",
       "    </tr>\n",
       "    <tr>\n",
       "      <th>7</th>\n",
       "      <td>Random Forest Regressor with all predictors</td>\n",
       "      <td>0.796740</td>\n",
       "      <td>0.240607</td>\n",
       "      <td>0.497886</td>\n",
       "      <td>0.351548</td>\n",
       "    </tr>\n",
       "    <tr>\n",
       "      <th>8</th>\n",
       "      <td>gradient boosting regressor with all predictors</td>\n",
       "      <td>0.996073</td>\n",
       "      <td>0.289511</td>\n",
       "      <td>0.538661</td>\n",
       "      <td>0.458527</td>\n",
       "    </tr>\n",
       "  </tbody>\n",
       "</table>\n",
       "</div>"
      ],
      "text/plain": [
       "                                          model name   R2train    R2test  \\\n",
       "0              linear regression with all predictors  1.000000 -0.575704   \n",
       "1                       linear regression on 197 PCs  0.607145  0.146130   \n",
       "2                      ridge regression with 197 PCs  0.471062  0.265014   \n",
       "3                Elastic Net regression with 197 PCs  0.430632  0.267113   \n",
       "4                      linear regression with 20 PCs  0.321961  0.226916   \n",
       "5                linear regression with 5 predictors  0.347888  0.263385   \n",
       "6  linear regression model with Ridge regularizat...  0.346355  0.267639   \n",
       "7        Random Forest Regressor with all predictors  0.796740  0.240607   \n",
       "8    gradient boosting regressor with all predictors  0.996073  0.289511   \n",
       "\n",
       "        PCC       CCC  \n",
       "0  0.292637  0.291248  \n",
       "1  0.462699  0.434770  \n",
       "2  0.518424  0.419588  \n",
       "3  0.520643  0.415252  \n",
       "4  0.486073  0.415090  \n",
       "5  0.522998  0.457284  \n",
       "6  0.522654  0.441700  \n",
       "7  0.497886  0.351548  \n",
       "8  0.538661  0.458527  "
      ]
     },
     "metadata": {},
     "output_type": "display_data"
    }
   ],
   "source": [
    "with open('mmse_data2.pickle', 'rb') as f:\n",
    "    (X_train,X_test,y_train,y_test,y_dx_train,y_dx_test,summary,gbr_est) = pickle.load(f)\n",
    "display(pd.DataFrame(summary)[['model name','R2train','R2test','PCC','CCC']])"
   ]
  },
  {
   "cell_type": "markdown",
   "metadata": {},
   "source": [
    "The best model in all 3 evaluation metrics (R2 score, Pearson's correlation coefficient, Concordance correlation coefficient, all on test set) is the gradient boosting regressor. Assuming our test set is representative of the test set used for the AD DREAM challenge, our Concordance correlation coefficient of 0.47 would place us on rank 8 of the [final leaderboard](https://www.synapse.org/#!Synapse:syn2290704/wiki/68513). The Pearson's correlation coefficient would place us even higher. We use our optimal model to visualize how our predicted MMSE scores compare to the true MMSE scores, both on the training set and test set. We also visualize the different diagnoses classes (CN = control, MCI = mild cognitive impairment and AD = Alzheimer's disease) in these diagrams."
   ]
  },
  {
   "cell_type": "code",
   "execution_count": 4,
   "metadata": {
    "hide": true
   },
   "outputs": [
    {
     "data": {
      "image/png": "[encoded data removed]",
      "text/plain": [
       "<matplotlib.figure.Figure at 0x10f609320>"
      ]
     },
     "metadata": {},
     "output_type": "display_data"
    }
   ],
   "source": [
    "# visualization of the best model \n",
    "\n",
    "y_hat_train = gbr_est.predict(X_train)\n",
    "y_hat_test = gbr_est.predict(X_test)\n",
    "\n",
    "# plot of prediction vs truth on test set\n",
    "idx1 = y_dx_test == 0\n",
    "idx2 = y_dx_test == 1\n",
    "idx3 = y_dx_test == 2\n",
    "\n",
    "fig7 = plt.figure(figsize = [12,8])\n",
    "plt.scatter(y_hat_test[idx1],y_test[idx1],alpha=0.5,c='green')\n",
    "plt.scatter(y_hat_test[idx2],y_test[idx2],alpha=0.5,c='blue')\n",
    "plt.scatter(y_hat_test[idx3],y_test[idx3],alpha=0.5,c='red')\n",
    "\n",
    "plt.xlabel('Predicted MMSE score')\n",
    "plt.ylabel('True MMSE score')\n",
    "plt.legend(['control','MCI','AD'])\n",
    "plt.title('MMSE Prediction vs Ground Truth on Test Set',fontsize=24)\n",
    "\n",
    "#plot regression line\n",
    "beta1,beta0 = np.polyfit(y_hat_test,y_test,deg=1)\n",
    "f = lambda x: beta1 * x + beta0\n",
    "x = np.array([np.min(y_hat_test), np.max(y_hat_test)])\n",
    "plt.plot(x,f(x),c='blue')\n",
    "\n",
    "sns.despine()"
   ]
  },
  {
   "cell_type": "markdown",
   "metadata": {},
   "source": [
    "Based on the distribution of different diagnosis classes in this graph, it should be possible to use the predicted MMSE in the prediction of diagnoses."
   ]
  },
  {
   "cell_type": "markdown",
   "metadata": {},
   "source": [
    "## Influence of estimated MMSE on diagnosis prediction\n",
    "  \n",
    "  \n",
    "We are first comparing three simple logistic regression classifiers: One that uses only the demographic data for predicting diagnosis, one that uses the actual MMSE score and one that uses our predicted MMSE score. The first achieves only 46% accuracy on the test set, whereas the second achieves 69%. The model with our predicted MMSE score is halfway between these 2 extremes with 56% accuracy."
   ]
  },
  {
   "cell_type": "code",
   "execution_count": 5,
   "metadata": {
    "hide": true
   },
   "outputs": [
    {
     "name": "stdout",
     "output_type": "stream",
     "text": [
      "model with demographic factors only:\n",
      "training accuracy:  0.511677282378\n",
      "test accuracy:  0.464968152866\n"
     ]
    }
   ],
   "source": [
    "# try to predict diagnosis based on demographic predictors only (logistic regression with xval for regularization)\n",
    "demographic_columns = ['AGE','PTGENDER','PTEDUCAT','PTETHCAT','imputed_genotype','PTRACCAT_Black','PTRACCAT_White','APOE4_1','APOE4_2']\n",
    "\n",
    "\n",
    "X_est_train = X_train[demographic_columns].copy()\n",
    "X_est_test = X_test[demographic_columns].copy()\n",
    "\n",
    "Cs = [100000,50000,10000,5000,1000,500,100,50,10,5,1,0.5,0.1,0.05,0.01,0.005,0.001,0.0005,0.0001,0.00005,0.00001]\n",
    "logreg_clf = LogisticRegressionCV(Cs=Cs)\n",
    "logreg_clf.fit(X_est_train,y_dx_train)\n",
    "y_hatdx_train = logreg_clf.predict(X_est_train)\n",
    "y_hatdx_test = logreg_clf.predict(X_est_test)\n",
    "\n",
    "train_acc = np.sum(y_hatdx_train == y_dx_train)/len(y_dx_train)\n",
    "test_acc = np.sum(y_hatdx_test == y_dx_test)/len(y_dx_test)\n",
    "\n",
    "print('model with demographic factors only:')\n",
    "print('training accuracy: ',train_acc)\n",
    "print('test accuracy: ', test_acc)"
   ]
  },
  {
   "cell_type": "code",
   "execution_count": 6,
   "metadata": {
    "hide": true
   },
   "outputs": [
    {
     "name": "stdout",
     "output_type": "stream",
     "text": [
      "model with demographic factors + true MMSE score:\n",
      "training accuracy:  0.713375796178\n",
      "test accuracy:  0.694267515924\n"
     ]
    }
   ],
   "source": [
    "# new model based on demographic predictors + true MMSE score\n",
    "X_est_train['MMSE'] = y_train\n",
    "X_est_test['MMSE'] = y_test\n",
    "\n",
    "Cs = [100000,50000,10000,5000,1000,500,100,50,10,5,1,0.5,0.1,0.05,0.01,0.005,0.001,0.0005,0.0001,0.00005,0.00001]\n",
    "logreg_clf = LogisticRegressionCV(Cs=Cs)\n",
    "logreg_clf.fit(X_est_train,y_dx_train)\n",
    "y_hatdx_train = logreg_clf.predict(X_est_train)\n",
    "y_hatdx_test = logreg_clf.predict(X_est_test)\n",
    "\n",
    "train_acc = np.sum(y_hatdx_train == y_dx_train)/len(y_dx_train)\n",
    "test_acc = np.sum(y_hatdx_test == y_dx_test)/len(y_dx_test)\n",
    "\n",
    "print('model with demographic factors + true MMSE score:')\n",
    "print('training accuracy: ',train_acc)\n",
    "print('test accuracy: ', test_acc)"
   ]
  },
  {
   "cell_type": "code",
   "execution_count": 7,
   "metadata": {
    "hide": true
   },
   "outputs": [
    {
     "name": "stdout",
     "output_type": "stream",
     "text": [
      "model with demographic factors + our estimated MMSE score:\n",
      "training accuracy:  0.71974522293\n",
      "test accuracy:  0.56050955414\n"
     ]
    }
   ],
   "source": [
    "# new model based on demographic predictors + our predicted MMSE score\n",
    "X_est_train['MMSE'] = y_hat_train\n",
    "X_est_test['MMSE'] = y_hat_test\n",
    "\n",
    "Cs = [100000,50000,10000,5000,1000,500,100,50,10,5,1,0.5,0.1,0.05,0.01,0.005,0.001,0.0005,0.0001,0.00005,0.00001]\n",
    "logreg_clf = LogisticRegressionCV(Cs=Cs)\n",
    "logreg_clf.fit(X_est_train,y_dx_train)\n",
    "y_hatdx_train = logreg_clf.predict(X_est_train)\n",
    "y_hatdx_test = logreg_clf.predict(X_est_test)\n",
    "\n",
    "train_acc = np.sum(y_hatdx_train == y_dx_train)/len(y_dx_train)\n",
    "test_acc = np.sum(y_hatdx_test == y_dx_test)/len(y_dx_test)\n",
    "\n",
    "print('model with demographic factors + our estimated MMSE score:')\n",
    "print('training accuracy: ',train_acc)\n",
    "print('test accuracy: ', test_acc)"
   ]
  },
  {
   "cell_type": "markdown",
   "metadata": {},
   "source": [
    "In order to getter a better estimate and a significance value for the improvement, we perform bootstrapping by resampling our training set with replacement, use the remaining observations as test set and determine the difference in test accuracies between the base model and our (putatively) improved model."
   ]
  },
  {
   "cell_type": "code",
   "execution_count": 8,
   "metadata": {
    "hide": true
   },
   "outputs": [
    {
     "data": {
      "image/png": "[encoded data removed]",
      "text/plain": [
       "<matplotlib.figure.Figure at 0x10f8091d0>"
      ]
     },
     "metadata": {},
     "output_type": "display_data"
    }
   ],
   "source": [
    "# get p-values for the effect of estimated mmse score using a paired t-test (one sample t-test on differences)\n",
    "num_iterations = 100\n",
    "train_size = X_est_train.shape[0]\n",
    "data = pd.concat([pd.concat([X_est_train,X_est_test]),pd.concat([y_dx_train,y_dx_test])],axis=1).values\n",
    "\n",
    "test_acc_diffs = []\n",
    "\n",
    "for i in range(num_iterations):\n",
    "    # prepare train and test sets\n",
    "    train = resample(data, n_samples=train_size)\n",
    "    test = np.array([x for x in data if x.tolist() not in train.tolist()])\n",
    "    X_train_bs = train[:,:-1]\n",
    "    y_train_bs = train[:,-1]\n",
    "    X_test_bs = test[:,:-1]\n",
    "    y_test_bs = test[:,-1]\n",
    "    \n",
    "    # fit base model without mmse\n",
    "    logreg_clf = LogisticRegressionCV(Cs=Cs)\n",
    "    logreg_clf.fit(X_train_bs[:,:-1],y_train_bs)\n",
    "    y_hat_base = logreg_clf.predict(X_test_bs[:,:-1])\n",
    "    acc_base = np.sum(y_hat_base == y_test_bs)/len(y_test_bs)\n",
    "    \n",
    "    # fit mmse model \n",
    "    logreg_clf.fit(X_train_bs,y_train_bs)\n",
    "    y_hat_mmse = logreg_clf.predict(X_test_bs)\n",
    "    acc_mmse = np.sum(y_hat_mmse == y_test_bs)/len(y_test_bs)\n",
    "    \n",
    "    test_acc_diffs.append(acc_mmse - acc_base)\n",
    "\n",
    "fig8 = plt.figure(figsize = [12,8])\n",
    "plt.hist(test_acc_diffs)\n",
    "plt.xlabel('improvement in accuracies')\n",
    "plt.ylabel('number of bootstraps')\n",
    "plt.title('Fig.8: Histogram of model improvement in bootstraps',fontsize=24);"
   ]
  },
  {
   "cell_type": "code",
   "execution_count": 9,
   "metadata": {
    "hide": true
   },
   "outputs": [
    {
     "name": "stdout",
     "output_type": "stream",
     "text": [
      "mean improvement by inclusion of predicted MMSE score:  0.172099557385\n",
      "Null Hypothesis: Including predicted MMSE has no effect on accuracy of classifier\n",
      "p-value:  7.61810278112e-78\n"
     ]
    }
   ],
   "source": [
    "_,pval = ttest_1samp(test_acc_diffs,popmean=0)\n",
    "print('mean improvement by inclusion of predicted MMSE score: ',np.mean(test_acc_diffs))\n",
    "print('Null Hypothesis: Including predicted MMSE has no effect on accuracy of classifier')\n",
    "print('p-value: ', pval)"
   ]
  },
  {
   "cell_type": "markdown",
   "metadata": {},
   "source": [
    "The improvement in test accuracies appears roughly normally distributed and has a mean of 17%. Based on a paired t-test, these effects are highly significant."
   ]
  },
  {
   "cell_type": "markdown",
   "metadata": {},
   "source": [
    "## Discussion\n",
    "  \n",
    "  \n",
    "We have shown that our best models can compete with other submissions to the AD DREAM challenge and even outperform 2/3 of the submissions. We have also shown that the predicted MMSE scores from our best model are good enough to significantly improve Alzheimer's Disease/Dementia diagnosis. However, given more time, there might be ways to further improve our model: We currently use preprocessed geometrical data to approximate brain morphology as our predictors; the raw MRI data might contain information that is not captured by this data. Training a deep neural net on raw MRI images might improve our prediction.  \n",
    "It is remarkable that a number of our models is performing relatively well. Combining these models by stacking might further improve our prediction."
   ]
  },
  {
   "cell_type": "code",
   "execution_count": null,
   "metadata": {
    "collapsed": true
   },
   "outputs": [],
   "source": []
  }
 ],
 "metadata": {
  "celltoolbar": "Edit Metadata",
  "kernelspec": {
   "display_name": "Python 3",
   "language": "python",
   "name": "python3"
  },
  "language_info": {
   "codemirror_mode": {
    "name": "ipython",
    "version": 3
   },
   "file_extension": ".py",
   "mimetype": "text/x-python",
   "name": "python",
   "nbconvert_exporter": "python",
   "pygments_lexer": "ipython3",
   "version": "3.6.2"
  }
 },
 "nbformat": 4,
 "nbformat_minor": 2
}
